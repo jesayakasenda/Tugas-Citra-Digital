{
 "cells": [
  {
   "cell_type": "code",
   "execution_count": 1,
   "metadata": {},
   "outputs": [],
   "source": [
    "import cv2"
   ]
  },
  {
   "cell_type": "code",
   "execution_count": 2,
   "metadata": {},
   "outputs": [],
   "source": [
    "import numpy as np \n",
    "import matplotlib.pyplot as plt \n",
    "%matplotlib inline"
   ]
  },
  {
   "cell_type": "code",
   "execution_count": 3,
   "metadata": {},
   "outputs": [],
   "source": [
    "# Step 1. Define callback function \n",
    "def draw_circle(event, x, y, flags, param):\n",
    "    if event == cv2.EVENT_LBUTTONDOWN:            \n",
    "        cv2.circle(img, center = (x, y), radius = 5,                        \n",
    "                   color = (87, 184, 237), thickness = -1)\n",
    "    elif event == cv2.EVENT_RBUTTONDOWN:                    \n",
    "        cv2.circle(img, center = (x, y), radius = 10,                         \n",
    "                   color = (87, 184, 237), thickness = 1)\n"
   ]
  },
  {
   "cell_type": "code",
   "execution_count": 4,
   "metadata": {},
   "outputs": [],
   "source": [
    "# Step 2. Call the window \n",
    "img = cv2.imread('Downloads/Images.jpg')\n"
   ]
  },
  {
   "cell_type": "code",
   "execution_count": 5,
   "metadata": {},
   "outputs": [],
   "source": [
    "cv2.namedWindow(winname = 'my_drawing') \n",
    "cv2.setMouseCallback('my_drawing', draw_circle)\n"
   ]
  },
  {
   "cell_type": "code",
   "execution_count": null,
   "metadata": {},
   "outputs": [],
   "source": [
    "# Step 3. Execution \n",
    "while True:    \n",
    "    cv2.imshow('my_drawing',img)    \n",
    "    if cv2.waitKey(10) & 0xFF == 27:        \n",
    "        break\n",
    "        \n",
    "cv2.destroyAllWindows()"
   ]
  },
  {
   "cell_type": "code",
   "execution_count": null,
   "metadata": {},
   "outputs": [],
   "source": [
    "# Initialization \n",
    "drawing = False \n",
    "ix = -1 \n",
    "iy = -1\n",
    "# create a drawing function \n",
    "def draw_rectangle(event, x, y, flags, params):       \n",
    "    \n",
    "    global ix, iy, drawing\n",
    "    \n",
    "    if event == cv2.EVENT_LBUTTONDOWN:        \n",
    "        drawing = True        \n",
    "        ix, iy = x, y            \n",
    "        \n",
    "        elif event == cv2.EVENT_MOUSEMOVE:        \n",
    "            if drawing == True:            \n",
    "                cv2.rectangle(img, pt1=(ix, iy), pt2=(x, y),                           \n",
    "                              color = (87, 184, 237), thickness = -1) \n",
    "                \n",
    "                elif event == cv2.EVENT_LBUTTONUP:        \n",
    "                    drawing = False        \n",
    "                    cv2.rectangle(img, pt1=(ix, iy), pt2=(x, y),                      color = (87, 184, 237), thickness = -1)\n"
   ]
  },
  {
   "cell_type": "code",
   "execution_count": null,
   "metadata": {},
   "outputs": [],
   "source": []
  }
 ],
 "metadata": {
  "kernelspec": {
   "display_name": "Python 3",
   "language": "python",
   "name": "python3"
  },
  "language_info": {
   "codemirror_mode": {
    "name": "ipython",
    "version": 3
   },
   "file_extension": ".py",
   "mimetype": "text/x-python",
   "name": "python",
   "nbconvert_exporter": "python",
   "pygments_lexer": "ipython3",
   "version": "3.7.6"
  }
 },
 "nbformat": 4,
 "nbformat_minor": 4
}
